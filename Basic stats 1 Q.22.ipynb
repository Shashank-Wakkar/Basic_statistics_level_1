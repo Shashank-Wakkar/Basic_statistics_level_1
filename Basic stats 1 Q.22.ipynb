{
 "cells": [
  {
   "cell_type": "code",
   "execution_count": 1,
   "id": "91f7b0ec",
   "metadata": {},
   "outputs": [],
   "source": [
    "import scipy.stats as st"
   ]
  },
  {
   "cell_type": "code",
   "execution_count": 2,
   "id": "676702d7",
   "metadata": {},
   "outputs": [],
   "source": [
    "ci = [0.90,0.94,0.60]"
   ]
  },
  {
   "cell_type": "code",
   "execution_count": 4,
   "id": "50b33067",
   "metadata": {},
   "outputs": [
    {
     "name": "stdout",
     "output_type": "stream",
     "text": [
      " For 0.9 Confidence interval the z score is 1.6448536269514722\n",
      " For 0.94 Confidence interval the z score is 1.8807936081512509\n",
      " For 0.6 Confidence interval the z score is 0.8416212335729143\n"
     ]
    }
   ],
   "source": [
    "for i in ci:\n",
    "    print(f\" For {i} Confidence interval the z score is {st.norm.ppf((1+i)/2)}\")"
   ]
  },
  {
   "cell_type": "code",
   "execution_count": null,
   "id": "f0a57f74",
   "metadata": {},
   "outputs": [],
   "source": []
  }
 ],
 "metadata": {
  "kernelspec": {
   "display_name": "Python 3 (ipykernel)",
   "language": "python",
   "name": "python3"
  },
  "language_info": {
   "codemirror_mode": {
    "name": "ipython",
    "version": 3
   },
   "file_extension": ".py",
   "mimetype": "text/x-python",
   "name": "python",
   "nbconvert_exporter": "python",
   "pygments_lexer": "ipython3",
   "version": "3.10.9"
  }
 },
 "nbformat": 4,
 "nbformat_minor": 5
}
