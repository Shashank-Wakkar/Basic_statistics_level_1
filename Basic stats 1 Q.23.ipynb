{
 "cells": [
  {
   "cell_type": "code",
   "execution_count": 3,
   "id": "c2d3088d",
   "metadata": {},
   "outputs": [],
   "source": [
    "import scipy.stats as st"
   ]
  },
  {
   "cell_type": "code",
   "execution_count": 11,
   "id": "2aa4e1f7",
   "metadata": {},
   "outputs": [],
   "source": [
    "ci = [0.95,0.96,0.99]"
   ]
  },
  {
   "cell_type": "code",
   "execution_count": 12,
   "id": "cf2dde62",
   "metadata": {},
   "outputs": [
    {
     "name": "stdout",
     "output_type": "stream",
     "text": [
      " For 0.95 Confidence interval the T score is 1.7108820799094275\n",
      " For 0.96 Confidence interval the T score is 1.8280511719596342\n",
      " For 0.99 Confidence interval the T score is 2.4921594731575762\n"
     ]
    }
   ],
   "source": [
    "for i in ci:\n",
    "    print(f\" For {i} Confidence interval the T score is {st.t.ppf(i,24)}\")"
   ]
  },
  {
   "cell_type": "code",
   "execution_count": null,
   "id": "59b8a5e0",
   "metadata": {},
   "outputs": [],
   "source": []
  }
 ],
 "metadata": {
  "kernelspec": {
   "display_name": "Python 3 (ipykernel)",
   "language": "python",
   "name": "python3"
  },
  "language_info": {
   "codemirror_mode": {
    "name": "ipython",
    "version": 3
   },
   "file_extension": ".py",
   "mimetype": "text/x-python",
   "name": "python",
   "nbconvert_exporter": "python",
   "pygments_lexer": "ipython3",
   "version": "3.10.9"
  }
 },
 "nbformat": 4,
 "nbformat_minor": 5
}
